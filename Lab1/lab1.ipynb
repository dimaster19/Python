{
 "cells": [
  {
   "cell_type": "markdown",
   "metadata": {},
   "source": [
    "Задание №1\n",
    "Напишите скрипт, который преобразует введенное с клавиатуры вещественное число в денежный формат. Например, число 12,5 должно быть преобразовано к виду «12 руб. 50 коп.». В случае ввода  отрицательного числа выдайте сообщение «Некорректный формат!» путем обработки исключения в коде."
   ]
  },
  {
   "cell_type": "code",
   "execution_count": 4,
   "metadata": {},
   "outputs": [
    {
     "name": "stdout",
     "output_type": "stream",
     "text": [
      "1 руб. 0 коп.\n"
     ]
    }
   ],
   "source": [
    "sum = float(input(\"Введите вещественное число: \"))\n",
    "try:\n",
    "    assert sum >= 0 # if false -> AssertionError\n",
    "    print(int(sum), \"руб.\", int((sum - int(sum)) * 100), \"коп.\")            \n",
    "except AssertionError:\n",
    "    print(\"Введенное число отрицательное\")"
   ]
  },
  {
   "cell_type": "markdown",
   "metadata": {},
   "source": [
    "Задание №2\n",
    "Написать скрипт, который выводит на экран «True», если элементы программно задаваемого списка представляют собой возрастающую  последовательность, иначе – «False»"
   ]
  },
  {
   "cell_type": "code",
   "execution_count": 2,
   "metadata": {},
   "outputs": [
    {
     "data": {
      "text/plain": [
       "True"
      ]
     },
     "execution_count": 2,
     "metadata": {},
     "output_type": "execute_result"
    }
   ],
   "source": [
    "def check(sequence):\n",
    "    i = 0\n",
    "    while i<len(sequence):\n",
    "        if (i != len(sequence)-1  and sequence[i]>sequence[i+1]): \n",
    "            return False\n",
    "        i += 1\n",
    "    return True\n",
    "\n",
    "sequence = list(map(int, input(\"Последовательность вводить через пробел\").split()))\n",
    "check(sequence)\n"
   ]
  },
  {
   "cell_type": "markdown",
   "metadata": {},
   "source": [
    "Задание №3\n",
    "Напишите скрипт, который позволяет ввести с клавиатуры номер  дебетовой карты (16 цифр) и выводит номер в скрытом виде: первые и  последние 4 цифры отображены нормально, а между ними – символы  «*» (например, 5123 **** **** 1212)."
   ]
  },
  {
   "cell_type": "code",
   "execution_count": 49,
   "metadata": {},
   "outputs": [
    {
     "name": "stdout",
     "output_type": "stream",
     "text": [
      "Номер карты:  1234 **** **** 1131\n"
     ]
    }
   ],
   "source": [
    "cardNum = input(\"Введите номер карты\") #CVV не нужно :)\n",
    "if len(cardNum)!=16: print (\"Введите 16 цифр\")\n",
    "else: print(\"Номер карты: \", cardNum[:4], \"**** ****\", cardNum[12:])"
   ]
  },
  {
   "cell_type": "markdown",
   "metadata": {},
   "source": [
    "Задание №4\n",
    "Напишите скрипт, который разделяет введенный с клавиатуры текст на слова и выводит сначала те слова, длина которых превосходит 7 символов, затем слова размером от 4 до 7 символов, затем – все остальные."
   ]
  },
  {
   "cell_type": "code",
   "execution_count": 60,
   "metadata": {},
   "outputs": [
    {
     "name": "stdout",
     "output_type": "stream",
     "text": [
      "lalalalal lalal lala lal la\n"
     ]
    }
   ],
   "source": [
    "text = input(\"Введите предложение: \").split()\n",
    "text.sort(key=len, reverse=True)\n",
    "print(\" \".join(text))"
   ]
  },
  {
   "cell_type": "markdown",
   "metadata": {},
   "source": [
    "Задание №5 Напишите скрипт, который позволяет ввести с клавиатуры текст предложения и сформировать новую строку на основе исходной, в которой все слова, начинающиеся с большой буквы, приведены к верхнему регистру. Слова могут разделяться запятыми или пробелами. Например, если пользователь введет строку «город Донецк, река Кальмиус», результирующая строка должна выглядеть так: «город ДОНЕЦК, река КАЛЬМИУС»."
   ]
  },
  {
   "cell_type": "code",
   "execution_count": 18,
   "metadata": {},
   "outputs": [
    {
     "name": "stdout",
     "output_type": "stream",
     "text": [
      "город Донецк, река Кальмиус \n",
      " город ДОНЕЦК, река КАЛЬМИУС\n"
     ]
    }
   ],
   "source": [
    "text = input(\"Введите текст\")\n",
    "newText = text.split() \n",
    "print(text, \"\\n\", \" \".join(i.upper() if i[0].isupper() else i for i in newText))\n"
   ]
  },
  {
   "cell_type": "markdown",
   "metadata": {},
   "source": [
    "Задание №6 Напишите программу, позволяющую ввести с клавиатуры текст предложения и вывести на консоль все символы, которые входят в этот текст ровно по одному разу."
   ]
  },
  {
   "cell_type": "code",
   "execution_count": 42,
   "metadata": {},
   "outputs": [
    {
     "name": "stdout",
     "output_type": "stream",
     "text": [
      "v e k a\n"
     ]
    }
   ],
   "source": [
    "text = input(\"Введите текст\")\n",
    "print(\" \".join(i for i in text if text.count(i)==1))"
   ]
  },
  {
   "cell_type": "markdown",
   "metadata": {},
   "source": [
    "Задание №7 Напишите скрипт, который обрабатывает список строк-адресов следующим образом: сначала определяет, начинается ли каждая строка в списке с префикса «www». Если условие выполняется, то скрипт должен вставить в начало этой строки префикс «http://», а затем проверить, что строка заканчивается на «.com». Если у строки другое окончание, то скрипт должен вставить в конец подстроку «.com». В итоге скрипт должен вывести на консоль новый список с измененными адресами. Используйте генераторы списков."
   ]
  },
  {
   "cell_type": "code",
   "execution_count": 16,
   "metadata": {},
   "outputs": [
    {
     "name": "stdout",
     "output_type": "stream",
     "text": [
      "https://www.youtube.com\n",
      "https://www.wikipedia.com\n",
      "https://www.jut.su.com\n"
     ]
    }
   ],
   "source": [
    "addresses = [\"www.youtube.com\", \"wikipedia.com\", \"www.jut.su\"]\n",
    "tempAddresses = [\"https://\" + i if (i.startswith('www.')) else  \"https://www.\" + i for i in addresses]\n",
    "newAddresses = [i + \".com\" if not i.endswith(\".com\") else i for i in tempAddresses]\n",
    "print (\"\\n\".join(newAddresses))"
   ]
  },
  {
   "cell_type": "markdown",
   "metadata": {},
   "source": [
    "Задание №8 Напишите скрипт, генерирующий случайным образом число n в диапазоне от 1 до 10000. Скрипт должен создать массив из n целых чисел, также сгенерированных случайным образом, и дополнить массив нулями до размера, равного ближайшей сверху степени двойки. Например, если в массиве было n=100 элементов, то массив нужно дополнить 28 нулями, чтобы в итоге был массив из 28 =128 элементов (ближайшая степень двойки к 100 – это число 128, к 35 – это 64 и т.д.)."
   ]
  },
  {
   "cell_type": "code",
   "execution_count": 5,
   "metadata": {},
   "outputs": [
    {
     "name": "stdout",
     "output_type": "stream",
     "text": [
      "11 12 25 8 0 19 31 31 24 0 1 0 11 7 3 10 4 0 10 26 1 18 7 15 16 4 7 27 25 14 24 25 \n",
      "Size of array: 32\n"
     ]
    }
   ],
   "source": [
    "import random\n",
    "n = random.randint (1,100) # Можете поставить 10k :)\n",
    "array = [random.randint (0,n) for _ in range(n)]\n",
    "newN = 1\n",
    "\n",
    "while newN < n:\n",
    "    newN *= 2\n",
    "\n",
    "while len(array)<newN:\n",
    "    array.append(0)\n",
    "\n",
    "print (*array, \"\\nSize of array:\", newN)"
   ]
  },
  {
   "cell_type": "markdown",
   "metadata": {},
   "source": [
    "Задание №9 Напишите программу, имитирующую работу банкомата. Выберите структуру данных для хранения купюр разного достоинства в заданном количестве. При вводе пользователем запрашиваемой суммы денег, скрипт должен вывести на консоль количество купюр подходящего достоинства. Если имеющихся денег не хватает, то необходимо напечатать сообщение «Операция не может быть выполнена!». Например, при сумме 5370 рублей на консоль должно быть выведено «5*1000 + 3*100 + 1*50 + 2*10»."
   ]
  },
  {
   "cell_type": "code",
   "execution_count": 8,
   "metadata": {},
   "outputs": [
    {
     "name": "stdout",
     "output_type": "stream",
     "text": [
      "0 x 1000 + 1 x 500 + 4 x 100 + 0 x 50 + 0 x 10 + "
     ]
    }
   ],
   "source": [
    "cash = int(input(\"Введите сумму для снятия\"))\n",
    "\n",
    "banknotes = {1000: 7, 500: 4, 100: 8, 50: 4, 10: 2}\n",
    "output = []\n",
    "\n",
    "for i, j in banknotes.items():\n",
    "    if cash < i * j and j != 0:\n",
    "        j = cash//i\n",
    "            \n",
    "    output.append((i, j))\n",
    "    cash -= i * j\n",
    "    banknotes[i] -= j\n",
    "     \n",
    "if cash!=0:\n",
    "    print(\"Операция не может быть выполнена!\")\n",
    "for i, j in output:\n",
    "    if cash == 0:\n",
    "        print ('{} x {}'.format(j, i), end = \" + \")\n"
   ]
  },
  {
   "cell_type": "markdown",
   "metadata": {},
   "source": [
    "Задание №10 Напишите скрипт, позволяющий определить надежность вводимого пользователем пароля. Это задание является творческим: алгоритм определения надежности разработайте самостоятельно."
   ]
  },
  {
   "cell_type": "code",
   "execution_count": 178,
   "metadata": {},
   "outputs": [
    {
     "name": "stdout",
     "output_type": "stream",
     "text": [
      "Пароль надежый!\n"
     ]
    }
   ],
   "source": [
    "#  Критерии надежности пароля: \n",
    "# -- Длина пароля не менее 8 символов\n",
    "# -- Обязательно использовать цифры и буквы\n",
    "# -- Использовать верхний и нижний регистры\n",
    "password = input(\"Введите пароль для проверки\")\n",
    "\n",
    "if (len(password)<8 or password.islower()==True or \n",
    "password.isupper()==True or password.isalpha()==True \n",
    "or password.isdigit()==True):\n",
    "    print(\"Пароль ненадежый!\")\n",
    "\n",
    "else:     \n",
    "    print(\"Пароль надежый!\")"
   ]
  },
  {
   "cell_type": "markdown",
   "metadata": {},
   "source": [
    "Задание №11 Напишите генератор frange как аналог range() с дробным шагом. Пример вызова: \n",
    " for x in frange(1, 5, 0.1): \n",
    "    print(x) \n",
    "Выводит 1 1.1 1.2 1.3 1.4 … 4.9"
   ]
  },
  {
   "cell_type": "code",
   "execution_count": 253,
   "metadata": {},
   "outputs": [
    {
     "name": "stdout",
     "output_type": "stream",
     "text": [
      "1 1.1 1.2 1.3 1.4 1.5 1.6 1.7 1.8 1.9 2.0 2.1 2.2 2.3 2.4 2.5 2.6 2.7 2.8 2.9 3.0 3.1 3.2 3.3 3.4 3.5 3.6 3.7 3.8 3.9 4.0 4.1 4.2 4.3 4.4 4.5 4.6 4.7 4.8 4.9 "
     ]
    }
   ],
   "source": [
    "# Указывать шаг до 5-ого разряда (до стотысячных) включительно\n",
    "def frange(start, end, step):\n",
    "    while start < end - step:\n",
    "        yield round(start, 5)\n",
    "        start += step\n",
    "\n",
    "for i in frange(1,5,0.1):\n",
    "    print(i, end= \" \")"
   ]
  },
  {
   "cell_type": "markdown",
   "metadata": {},
   "source": [
    "Задание №12 Напишите генератор get_frames(), который производит «оконную декомпозицию» сигнала: на основе входного списка генерирует набор списков – перекрывающихся отдельных фрагментов сигнала размера size со степенью перекрытия overlap. Пример вызова: \n",
    "for frame in get_frames(signal, size=1024, overlap=0.5): \n",
    "    print(frame)"
   ]
  },
  {
   "cell_type": "code",
   "execution_count": 48,
   "metadata": {},
   "outputs": [
    {
     "name": "stdout",
     "output_type": "stream",
     "text": [
      "0 1 2 3 4\n",
      "2 3 4 5 6\n",
      "4 5 6 7 8\n",
      "6 7 8 9\n",
      "8 9\n"
     ]
    }
   ],
   "source": [
    "# def get_frames (signal, size, overlap):\n",
    "#     temp = signal\n",
    "#     step = size * overlap\n",
    "\n",
    "\n",
    "def get_frames(signal, size, overlap):\n",
    "    step = round(size * overlap)\n",
    "    end = len(signal) - 1\n",
    "    for start in range(0, end, step):\n",
    "        yield [i for i in signal[start : start + size] ]\n",
    "   \n",
    "\n",
    "for frame in get_frames(range(10),5,0.5):\n",
    "    print (*frame)\n"
   ]
  },
  {
   "cell_type": "markdown",
   "metadata": {},
   "source": [
    "Задание №13 Напишите собственную версию генератора enumerate под названием extra_enumerate. Пример вызова: \n",
    "for i, elem, cum, frac in extra_enumerate(x): \n",
    "    print(elem, cum, frac)\n",
    "В переменной cum хранится накопленная сумма на момент текущей итерации, в переменной frac – доля накопленной суммы от общей суммы на момент текущей итерации. Например, для списка x=[1,3,4,2] вывод будет таким: \n",
    "(1, 1, 0.1) (3, 4, 0.4) (4, 8, 0.8) (2, 10, 1)"
   ]
  },
  {
   "cell_type": "code",
   "execution_count": 23,
   "metadata": {},
   "outputs": [
    {
     "name": "stdout",
     "output_type": "stream",
     "text": [
      "(1, 1, 0.1)\t(3, 4, 0.4)\t(4, 8, 0.8)\t(2, 10, 1.0)\t"
     ]
    }
   ],
   "source": [
    "def extra_enumerate(list):\n",
    "\n",
    "    i = 0 \n",
    "    cum = 0\n",
    "    sum = 0\n",
    "    \n",
    "    for elem in list:\n",
    "        sum += elem\n",
    "   \n",
    "    for elem in list:\n",
    "        cum += elem\n",
    "        frac = cum/sum\n",
    "        yield i, elem, cum, frac\n",
    "        i += 1\n",
    "\n",
    "x = [1, 3, 4, 2]\n",
    "for i, elem, cum, frac in extra_enumerate(x):\n",
    "    print ((elem, cum, frac), end = \"\\t\")"
   ]
  },
  {
   "cell_type": "markdown",
   "metadata": {},
   "source": [
    "Задание №14 Напишите декоратор non_empty, который дополнительно проверяет списковый результат любой функции: если в нем содержатся пустые строки или значение None, то они удаляются. Пример кода: @non_empty def get_pages(): return ['chapter1', '', 'contents', '', 'line1']"
   ]
  },
  {
   "cell_type": "code",
   "execution_count": 34,
   "metadata": {},
   "outputs": [
    {
     "data": {
      "text/plain": [
       "['chapter1', 'contents', 'line1']"
      ]
     },
     "execution_count": 34,
     "metadata": {},
     "output_type": "execute_result"
    }
   ],
   "source": [
    "def non_empty (func):\n",
    "    def wrapper():\n",
    "        return [item for item in func() if item]\n",
    "    return wrapper\n",
    "\n",
    "@non_empty\n",
    "def get_pages():\n",
    "    return ['chapter1', '', 'contents', '', 'line1']\n",
    "\n",
    "get_pages()\n"
   ]
  },
  {
   "cell_type": "markdown",
   "metadata": {},
   "source": [
    "Задание №15 Напишите параметризированный декоратор pre_process, который осуществляет предварительную обработку (цифровую фильтрацию) списка по алгоритму: s[i] = s[i]–a∙s[i–1]. Параметр а можно задать в коде (по умолчанию равен 0.97). Пример кода: @pre_process(a=0.93) def plot_signal(s): for sample in s: print(sample)"
   ]
  },
  {
   "cell_type": "code",
   "execution_count": 56,
   "metadata": {},
   "outputs": [
    {
     "data": {
      "text/plain": [
       "[-1.79, 1.07, 1.14]"
      ]
     },
     "execution_count": 56,
     "metadata": {},
     "output_type": "execute_result"
    }
   ],
   "source": [
    "def pre_process(a):\n",
    "    def decorator(func):\n",
    "        def wrapper(s):\n",
    "            return [round(s[i]-a*s[i-1],2) for i in range(len(s))]\n",
    "        return wrapper\n",
    "    return decorator\n",
    "\n",
    "@pre_process(a=0.93)\n",
    "def plot_signal(s): \n",
    "    for sample in s:\n",
    "         print(sample)\n",
    "\n",
    "s = [1,2,3]\n",
    "plot_signal(s)"
   ]
  },
  {
   "cell_type": "markdown",
   "metadata": {},
   "source": [
    "Задание №16 Напишите скрипт, который на основе списка из 16 названий футбольных команд случайным образом формирует 4 группы по 4 команды, а также выводит на консоль календарь всех игр (игры должны проходить по средам, раз в 2 недели, начиная с 14 сентября текущего года). Даты игр необходимо выводить в формате «14/09/2016, 22:45». Используйте модули random и itertools."
   ]
  },
  {
   "cell_type": "code",
   "execution_count": 71,
   "metadata": {},
   "outputs": [
    {
     "name": "stdout",
     "output_type": "stream",
     "text": [
      "\n",
      "Group № 1 -> ['Manchester United', 'PSG', 'Real Madrid', 'Inter Milan'] \n",
      "\n",
      "Manchester United - PSG 14/09/2016 22:45\n",
      "Manchester United - Real Madrid 28/09/2016 23:45\n",
      "Manchester United - Inter Milan 13/10/2016 00:45\n",
      "PSG - Real Madrid 27/10/2016 01:45\n",
      "PSG - Inter Milan 10/11/2016 02:45\n",
      "Real Madrid - Inter Milan 24/11/2016 03:45\n",
      "\n",
      "Group № 2 -> ['Ajax', 'Liverpool', 'Athletico Madrid', 'Manchester City'] \n",
      "\n",
      "Ajax - Liverpool 08/12/2016 04:45\n",
      "Ajax - Athletico Madrid 22/12/2016 05:45\n",
      "Ajax - Manchester City 05/01/2017 06:45\n",
      "Liverpool - Athletico Madrid 19/01/2017 07:45\n",
      "Liverpool - Manchester City 02/02/2017 08:45\n",
      "Athletico Madrid - Manchester City 16/02/2017 09:45\n",
      "\n",
      "Group № 3 -> ['Chelsey', 'Lazio', 'Portu', 'Lyon'] \n",
      "\n",
      "Chelsey - Lazio 02/03/2017 10:45\n",
      "Chelsey - Portu 16/03/2017 11:45\n",
      "Chelsey - Lyon 30/03/2017 12:45\n",
      "Lazio - Portu 13/04/2017 13:45\n",
      "Lazio - Lyon 27/04/2017 14:45\n",
      "Portu - Lyon 11/05/2017 15:45\n",
      "\n",
      "Group № 4 -> ['Rubin', 'Marseille', 'Barcelona', 'Juventus'] \n",
      "\n",
      "Rubin - Marseille 25/05/2017 16:45\n",
      "Rubin - Barcelona 08/06/2017 17:45\n",
      "Rubin - Juventus 22/06/2017 18:45\n",
      "Marseille - Barcelona 06/07/2017 19:45\n",
      "Marseille - Juventus 20/07/2017 20:45\n",
      "Barcelona - Juventus 03/08/2017 21:45\n"
     ]
    }
   ],
   "source": [
    "import random\n",
    "import itertools\n",
    "import datetime\n",
    "\n",
    "teams = [\"Barcelona\", \"Real Madrid\", \"Athletico Madrid\", \n",
    "        \"Liverpool\", \"Manchester City\", \"Manchester United\", \"Chelsey\", \n",
    "        \"Juventus\", \"Lazio\", \"Inter Milan\", \"PSG\", \n",
    "        \"Lyon\", \"Ajax\", \"Portu\", \"Marseille\", \"Rubin\"]\n",
    "\n",
    "date = datetime.datetime(2016, 9, 14, 22, 45)\n",
    "\n",
    "random.shuffle(teams)\n",
    "for i in range(4):\n",
    "    groups = teams[i*4:i*4+4]\n",
    "    print(\"\\nGroup №\",i+1,\"->\",groups, \"\\n\")\n",
    "\n",
    "    for i in itertools.combinations(groups, 2):\n",
    "        print(' - '.join(i), date.strftime(\"%d/%m/%Y %H:%M\"))\n",
    "        date += datetime.timedelta(days=14, hours = 1)"
   ]
  }
 ],
 "metadata": {
  "interpreter": {
   "hash": "97ae724bfa85b9b34df7982b8bb8c7216f435b92902d749e4263f71162bea840"
  },
  "kernelspec": {
   "display_name": "Python 3.9.7 64-bit ('base': conda)",
   "language": "python",
   "name": "python3"
  },
  "language_info": {
   "codemirror_mode": {
    "name": "ipython",
    "version": 3
   },
   "file_extension": ".py",
   "mimetype": "text/x-python",
   "name": "python",
   "nbconvert_exporter": "python",
   "pygments_lexer": "ipython3",
   "version": "3.9.7"
  },
  "orig_nbformat": 4
 },
 "nbformat": 4,
 "nbformat_minor": 2
}
