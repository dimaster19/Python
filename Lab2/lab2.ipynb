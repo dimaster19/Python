{
 "cells": [
  {
   "cell_type": "markdown",
   "metadata": {},
   "source": [
    "#1 Напишите скрипт, который читает текстовый файл и выводит символыв порядке убывания частоты встречаемости в тексте. Регистр символане имеет значения. Программа должна учитывать только буквенные символы (символы пунктуации, цифры и служебные символы слудет игнорировать). Проверьте работу скрипта на нескольких файлах с текстом на английском и русском языках, сравните результаты с таблицами, приведенными в wikipedia.org/wiki/Letter_frequencies."
   ]
  },
  {
   "cell_type": "code",
   "execution_count": 43,
   "metadata": {},
   "outputs": [
    {
     "name": "stdout",
     "output_type": "stream",
     "text": [
      "e - 25\n",
      "a - 23\n",
      "t - 18\n",
      "o - 13\n",
      "m - 12\n",
      "h - 12\n",
      "l - 11\n",
      "s - 10\n",
      "p - 8\n",
      "n - 7\n",
      "y - 7\n",
      "i - 7\n",
      "c - 7\n",
      "r - 7\n",
      "v - 6\n",
      "d - 4\n",
      "u - 4\n",
      "k - 3\n",
      "w - 3\n",
      "g - 2\n",
      "b - 2\n",
      "f - 1\n"
     ]
    }
   ],
   "source": [
    "def letterFrequency():\n",
    "    f = open('text.txt')\n",
    "    text = f.read().lower() \n",
    "    f.close()\n",
    "    frequency = {}\n",
    "    \n",
    "    for letter in text:\n",
    "        if letter.isalpha():\n",
    "            count = frequency.get(letter, 0)\n",
    "            frequency[letter] = count + 1\n",
    "\n",
    "    sortFrequency = sorted(frequency.items(), key=lambda x: x[1], reverse=True)  \n",
    "    for letter, count in  sortFrequency:\n",
    "        print(letter, count, sep=\" - \")\n",
    "\n",
    "letterFrequency()\n"
   ]
  },
  {
   "cell_type": "markdown",
   "metadata": {},
   "source": [
    "#2 Напишите скрипт, позволяющий искать в заданной директории и в ее подпапках файлы-дубликаты на основе сравнения контрольных сумм(MD5). Файлы могут иметь одинаковое содержимое, но отличаться именами. Скрипт должен вывести группы имен обнаруженных файловдубликатов."
   ]
  },
  {
   "cell_type": "code",
   "execution_count": 77,
   "metadata": {},
   "outputs": [
    {
     "name": "stdout",
     "output_type": "stream",
     "text": [
      "9cf81cbe867184f8f725398a5a25476b: text1.txt, text2 — копия (2).txt, text2 — копия.txt, text2.txt \n"
     ]
    }
   ],
   "source": [
    "import os\n",
    "import hashlib\n",
    "def compare():\n",
    "    files_dict = {}\n",
    "    files = os.listdir(\"dir\")\n",
    "\n",
    "    for file in files:\n",
    "        temp = open(\"./dir/\" + file)\n",
    "        hash = hashlib.md5(temp.read().encode(\"utf-8\")).hexdigest()\n",
    "        if hash in files_dict:\n",
    "            files_dict[hash].append(file)\n",
    "        else:\n",
    "            files_dict[hash] = [file]\n",
    "        temp.close()\n",
    "\n",
    "    for key, value in files_dict.items():\n",
    "        print(\"{0}: {1} \".format(key, \", \".join(value)))\n",
    "\n",
    "\n",
    "compare()"
   ]
  },
  {
   "cell_type": "markdown",
   "metadata": {},
   "source": [
    "#3 Задан путь к директории с музыкальными файлами (в названии которых нет номеров, а только названия песен) и текстовый файл, хранящий полный список песен с номерами и названиями в виде строк формата «01. Freefall [6:12]». Напишите скрипт, который корректирует имена файлов в директории на основе текста списка песен."
   ]
  },
  {
   "cell_type": "code",
   "execution_count": 58,
   "metadata": {},
   "outputs": [],
   "source": [
    "import os\n",
    "\n",
    "def replace_name_track():\n",
    "    file_name = 'music'\n",
    "    with open('music.txt') as f:\n",
    "        for file in os.listdir(file_name):\n",
    "            os.rename(file_name + '/' + file, file_name + '/' + f.readline().rstrip() + '.mp3')\n",
    "\n",
    "replace_name_track()\n",
    "        "
   ]
  },
  {
   "cell_type": "markdown",
   "metadata": {},
   "source": [
    "№4 Напишите скрипт, который позволяет ввести с клавиатуры имя текстового файла, найти в нем с помощью регулярных выражений все подстроки определенного вида, в соответствии с вариантом. \n",
    "Вариант 7: найдите все «смайлы» – подстроки вида «:)», «:-)», «)))» (количество скобок может быть любым, начиная с 1)."
   ]
  },
  {
   "cell_type": "code",
   "execution_count": 63,
   "metadata": {},
   "outputs": [
    {
     "name": "stdout",
     "output_type": "stream",
     "text": [
      "Строка 0, позиция 2 : найдено ':)' \n",
      "Строка 1, позиция 3 : найдено ':)' \n",
      "Строка 2, позиция 0 : найдено ':(' \n",
      "Строка 3, позиция 0 : найдено ':))' \n",
      "Строка 4, позиция 0 : найдено ':-)' \n",
      "Строка 5, позиция 0 : найдено ':)))' \n"
     ]
    }
   ],
   "source": [
    "import re\n",
    "\n",
    "# file - smiley.txt\n",
    "fileName = input(\"Введите название файла (формат файл.рсаширение\")\n",
    "temp = re.compile(r\"[;:]-*(\\(+|\\)+|\\[+|\\]+)\")\n",
    "\n",
    "with open(fileName, \"r\") as file:\n",
    "    smiley = file.readlines()\n",
    "\n",
    "for i in range(0, len(smiley)):\n",
    "    result = re.search(temp, smiley[i])\n",
    "    print(\"Строка {}, позиция {} : найдено '{}' \".format(i, result.span()[0], result.group()))"
   ]
  },
  {
   "cell_type": "markdown",
   "metadata": {},
   "source": [
    "#5 Введите с клавиатуры текст. Программно найдите в нем и выведите отдельно все слова, которые начинаются с большого латинского символа (от A до Z) и заканчиваются 2 или 4 цифрами, например «Petr93», «Johnny70», «Service2002». Используйте регулярные выражения."
   ]
  },
  {
   "cell_type": "code",
   "execution_count": 70,
   "metadata": {},
   "outputs": [
    {
     "name": "stdout",
     "output_type": "stream",
     "text": [
      "Dmitry2002, Petr93, Service2002\n"
     ]
    }
   ],
   "source": [
    "import re\n",
    "\n",
    "# Dmitry2002 ABCDEFG abcdefg2000 Petr93 Service2002\n",
    "text = input(\"Введите текст\")\n",
    "temp = re.findall(r\"\\b[A-Z][a-z]+\\d{2}\\b|\\b[A-Z][a-z]+\\d{4}\\b\", text)\n",
    "print(*temp, sep = \", \" )"
   ]
  }
 ],
 "metadata": {
  "interpreter": {
   "hash": "97ae724bfa85b9b34df7982b8bb8c7216f435b92902d749e4263f71162bea840"
  },
  "kernelspec": {
   "display_name": "Python 3.9.7 ('base')",
   "language": "python",
   "name": "python3"
  },
  "language_info": {
   "codemirror_mode": {
    "name": "ipython",
    "version": 3
   },
   "file_extension": ".py",
   "mimetype": "text/x-python",
   "name": "python",
   "nbconvert_exporter": "python",
   "pygments_lexer": "ipython3",
   "version": "3.9.7"
  },
  "orig_nbformat": 4
 },
 "nbformat": 4,
 "nbformat_minor": 2
}
